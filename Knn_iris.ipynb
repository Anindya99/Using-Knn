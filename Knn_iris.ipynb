{
  "cells": [
    {
      "metadata": {
        "trusted": true
      },
      "cell_type": "code",
      "source": "import pandas as pd\nimport numpy as np\nimport math\nimport operator\nfrom collections import Counter",
      "execution_count": 12,
      "outputs": []
    },
    {
      "metadata": {
        "trusted": true
      },
      "cell_type": "code",
      "source": "df = pd.read_csv(\"/home/nbuser/library/Iris.csv\")\ndf.head()",
      "execution_count": 3,
      "outputs": [
        {
          "output_type": "execute_result",
          "execution_count": 3,
          "data": {
            "text/html": "<div>\n<style scoped>\n    .dataframe tbody tr th:only-of-type {\n        vertical-align: middle;\n    }\n\n    .dataframe tbody tr th {\n        vertical-align: top;\n    }\n\n    .dataframe thead th {\n        text-align: right;\n    }\n</style>\n<table border=\"1\" class=\"dataframe\">\n  <thead>\n    <tr style=\"text-align: right;\">\n      <th></th>\n      <th>Id</th>\n      <th>SepalLengthCm</th>\n      <th>SepalWidthCm</th>\n      <th>PetalLengthCm</th>\n      <th>PetalWidthCm</th>\n      <th>Species</th>\n    </tr>\n  </thead>\n  <tbody>\n    <tr>\n      <th>0</th>\n      <td>1</td>\n      <td>5.1</td>\n      <td>3.5</td>\n      <td>1.4</td>\n      <td>0.2</td>\n      <td>Iris-setosa</td>\n    </tr>\n    <tr>\n      <th>1</th>\n      <td>2</td>\n      <td>4.9</td>\n      <td>3.0</td>\n      <td>1.4</td>\n      <td>0.2</td>\n      <td>Iris-setosa</td>\n    </tr>\n    <tr>\n      <th>2</th>\n      <td>3</td>\n      <td>4.7</td>\n      <td>3.2</td>\n      <td>1.3</td>\n      <td>0.2</td>\n      <td>Iris-setosa</td>\n    </tr>\n    <tr>\n      <th>3</th>\n      <td>4</td>\n      <td>4.6</td>\n      <td>3.1</td>\n      <td>1.5</td>\n      <td>0.2</td>\n      <td>Iris-setosa</td>\n    </tr>\n    <tr>\n      <th>4</th>\n      <td>5</td>\n      <td>5.0</td>\n      <td>3.6</td>\n      <td>1.4</td>\n      <td>0.2</td>\n      <td>Iris-setosa</td>\n    </tr>\n  </tbody>\n</table>\n</div>",
            "text/plain": "   Id  SepalLengthCm  SepalWidthCm  PetalLengthCm  PetalWidthCm      Species\n0   1            5.1           3.5            1.4           0.2  Iris-setosa\n1   2            4.9           3.0            1.4           0.2  Iris-setosa\n2   3            4.7           3.2            1.3           0.2  Iris-setosa\n3   4            4.6           3.1            1.5           0.2  Iris-setosa\n4   5            5.0           3.6            1.4           0.2  Iris-setosa"
          },
          "metadata": {}
        }
      ]
    },
    {
      "metadata": {},
      "cell_type": "markdown",
      "source": "## Predicting Species based on Petal length and sepal length"
    },
    {
      "metadata": {
        "trusted": true
      },
      "cell_type": "code",
      "source": "from sklearn.model_selection import train_test_split\nx=df[['PetalLengthCm','SepalLengthCm']]\ny=df[\"Species\"]\nx_train,x_test,y_train,y_test=train_test_split(x,y,train_size=0.75)\nprint(x.iloc[0,:])",
      "execution_count": 17,
      "outputs": [
        {
          "output_type": "stream",
          "text": "PetalLengthCm    1.4\nSepalLengthCm    5.1\nName: 0, dtype: float64\n",
          "name": "stdout"
        },
        {
          "output_type": "stream",
          "text": "/home/nbuser/anaconda3_501/lib/python3.6/site-packages/sklearn/model_selection/_split.py:2179: FutureWarning: From version 0.21, test_size will always complement train_size unless both are specified.\n  FutureWarning)\n",
          "name": "stderr"
        }
      ]
    },
    {
      "metadata": {
        "trusted": true
      },
      "cell_type": "code",
      "source": "def knnpredict(x_train,x_test,y_train,k):\n    final=[]\n    diff=[]\n    ma=[]\n    for i in range(len(x_train)):\n        dist=np.sqrt(np.sum(np.square(x_train.values[i]-x_test)))\n        diff.append((dist,y_train.values[i]))\n        \n         \n            \n    diff=sorted(diff,key=lambda x: x[0]) \n    for i in range(k):\n        ma.append(diff[i][1])\n        \n    return Counter(ma).most_common(1)[0][0]\n\n",
      "execution_count": 5,
      "outputs": []
    },
    {
      "metadata": {},
      "cell_type": "markdown",
      "source": "## Varying K values"
    },
    {
      "metadata": {
        "trusted": true
      },
      "cell_type": "code",
      "source": "f=len(y_test)\nfinal=[]\nfor i in range(f):\n    final.append(knnpredict(x_train,x_test.values[i,:],y_train,5))\n    print(\"Prediction of Species based on test data-\")\n    print(x.iloc[0,:])\n    print(\"is-\",final[i]) \n          ",
      "execution_count": 6,
      "outputs": [
        {
          "output_type": "stream",
          "text": "Prediction of Species based on test data-\nPetalLengthCm    1.4\nSepalLengthCm    5.1\nName: 0, dtype: float64\nis- Iris-setosa\nPrediction of Species based on test data-\nPetalLengthCm    1.4\nSepalLengthCm    5.1\nName: 0, dtype: float64\nis- Iris-virginica\nPrediction of Species based on test data-\nPetalLengthCm    1.4\nSepalLengthCm    5.1\nName: 0, dtype: float64\nis- Iris-virginica\nPrediction of Species based on test data-\nPetalLengthCm    1.4\nSepalLengthCm    5.1\nName: 0, dtype: float64\nis- Iris-setosa\nPrediction of Species based on test data-\nPetalLengthCm    1.4\nSepalLengthCm    5.1\nName: 0, dtype: float64\nis- Iris-versicolor\nPrediction of Species based on test data-\nPetalLengthCm    1.4\nSepalLengthCm    5.1\nName: 0, dtype: float64\nis- Iris-virginica\nPrediction of Species based on test data-\nPetalLengthCm    1.4\nSepalLengthCm    5.1\nName: 0, dtype: float64\nis- Iris-versicolor\nPrediction of Species based on test data-\nPetalLengthCm    1.4\nSepalLengthCm    5.1\nName: 0, dtype: float64\nis- Iris-virginica\nPrediction of Species based on test data-\nPetalLengthCm    1.4\nSepalLengthCm    5.1\nName: 0, dtype: float64\nis- Iris-setosa\nPrediction of Species based on test data-\nPetalLengthCm    1.4\nSepalLengthCm    5.1\nName: 0, dtype: float64\nis- Iris-virginica\nPrediction of Species based on test data-\nPetalLengthCm    1.4\nSepalLengthCm    5.1\nName: 0, dtype: float64\nis- Iris-versicolor\nPrediction of Species based on test data-\nPetalLengthCm    1.4\nSepalLengthCm    5.1\nName: 0, dtype: float64\nis- Iris-setosa\nPrediction of Species based on test data-\nPetalLengthCm    1.4\nSepalLengthCm    5.1\nName: 0, dtype: float64\nis- Iris-versicolor\nPrediction of Species based on test data-\nPetalLengthCm    1.4\nSepalLengthCm    5.1\nName: 0, dtype: float64\nis- Iris-virginica\nPrediction of Species based on test data-\nPetalLengthCm    1.4\nSepalLengthCm    5.1\nName: 0, dtype: float64\nis- Iris-virginica\nPrediction of Species based on test data-\nPetalLengthCm    1.4\nSepalLengthCm    5.1\nName: 0, dtype: float64\nis- Iris-virginica\nPrediction of Species based on test data-\nPetalLengthCm    1.4\nSepalLengthCm    5.1\nName: 0, dtype: float64\nis- Iris-versicolor\nPrediction of Species based on test data-\nPetalLengthCm    1.4\nSepalLengthCm    5.1\nName: 0, dtype: float64\nis- Iris-versicolor\nPrediction of Species based on test data-\nPetalLengthCm    1.4\nSepalLengthCm    5.1\nName: 0, dtype: float64\nis- Iris-setosa\nPrediction of Species based on test data-\nPetalLengthCm    1.4\nSepalLengthCm    5.1\nName: 0, dtype: float64\nis- Iris-virginica\nPrediction of Species based on test data-\nPetalLengthCm    1.4\nSepalLengthCm    5.1\nName: 0, dtype: float64\nis- Iris-setosa\nPrediction of Species based on test data-\nPetalLengthCm    1.4\nSepalLengthCm    5.1\nName: 0, dtype: float64\nis- Iris-virginica\nPrediction of Species based on test data-\nPetalLengthCm    1.4\nSepalLengthCm    5.1\nName: 0, dtype: float64\nis- Iris-versicolor\nPrediction of Species based on test data-\nPetalLengthCm    1.4\nSepalLengthCm    5.1\nName: 0, dtype: float64\nis- Iris-setosa\nPrediction of Species based on test data-\nPetalLengthCm    1.4\nSepalLengthCm    5.1\nName: 0, dtype: float64\nis- Iris-virginica\nPrediction of Species based on test data-\nPetalLengthCm    1.4\nSepalLengthCm    5.1\nName: 0, dtype: float64\nis- Iris-setosa\nPrediction of Species based on test data-\nPetalLengthCm    1.4\nSepalLengthCm    5.1\nName: 0, dtype: float64\nis- Iris-versicolor\nPrediction of Species based on test data-\nPetalLengthCm    1.4\nSepalLengthCm    5.1\nName: 0, dtype: float64\nis- Iris-setosa\nPrediction of Species based on test data-\nPetalLengthCm    1.4\nSepalLengthCm    5.1\nName: 0, dtype: float64\nis- Iris-setosa\nPrediction of Species based on test data-\nPetalLengthCm    1.4\nSepalLengthCm    5.1\nName: 0, dtype: float64\nis- Iris-versicolor\nPrediction of Species based on test data-\nPetalLengthCm    1.4\nSepalLengthCm    5.1\nName: 0, dtype: float64\nis- Iris-setosa\nPrediction of Species based on test data-\nPetalLengthCm    1.4\nSepalLengthCm    5.1\nName: 0, dtype: float64\nis- Iris-versicolor\nPrediction of Species based on test data-\nPetalLengthCm    1.4\nSepalLengthCm    5.1\nName: 0, dtype: float64\nis- Iris-setosa\nPrediction of Species based on test data-\nPetalLengthCm    1.4\nSepalLengthCm    5.1\nName: 0, dtype: float64\nis- Iris-setosa\nPrediction of Species based on test data-\nPetalLengthCm    1.4\nSepalLengthCm    5.1\nName: 0, dtype: float64\nis- Iris-versicolor\nPrediction of Species based on test data-\nPetalLengthCm    1.4\nSepalLengthCm    5.1\nName: 0, dtype: float64\nis- Iris-versicolor\nPrediction of Species based on test data-\nPetalLengthCm    1.4\nSepalLengthCm    5.1\nName: 0, dtype: float64\nis- Iris-versicolor\nPrediction of Species based on test data-\nPetalLengthCm    1.4\nSepalLengthCm    5.1\nName: 0, dtype: float64\nis- Iris-setosa\n",
          "name": "stdout"
        }
      ]
    },
    {
      "metadata": {
        "trusted": true
      },
      "cell_type": "code",
      "source": "from sklearn.metrics import accuracy_score\naccuracy = accuracy_score(y_test, final)\naccuracy=accuracy*100\nprint(\"Accuracry is- \",accuracy,'%')",
      "execution_count": 7,
      "outputs": [
        {
          "output_type": "stream",
          "text": "Accuracry is-  89.47368421052632 %\n",
          "name": "stdout"
        }
      ]
    },
    {
      "metadata": {
        "trusted": true
      },
      "cell_type": "code",
      "source": "f=len(y_test)\nfinal=[]\nfor i in range(f):\n    final.append(knnpredict(x_train,x_test.values[i,:],y_train,7))\n    print(\"Prediction of Species based on test data-\")\n    print(x.iloc[0,:])\n    print(\"is-\",final[i]) \n          ",
      "execution_count": 8,
      "outputs": [
        {
          "output_type": "stream",
          "text": "Prediction of Species based on test data-\nPetalLengthCm    1.4\nSepalLengthCm    5.1\nName: 0, dtype: float64\nis- Iris-setosa\nPrediction of Species based on test data-\nPetalLengthCm    1.4\nSepalLengthCm    5.1\nName: 0, dtype: float64\nis- Iris-versicolor\nPrediction of Species based on test data-\nPetalLengthCm    1.4\nSepalLengthCm    5.1\nName: 0, dtype: float64\nis- Iris-virginica\nPrediction of Species based on test data-\nPetalLengthCm    1.4\nSepalLengthCm    5.1\nName: 0, dtype: float64\nis- Iris-setosa\nPrediction of Species based on test data-\nPetalLengthCm    1.4\nSepalLengthCm    5.1\nName: 0, dtype: float64\nis- Iris-versicolor\nPrediction of Species based on test data-\nPetalLengthCm    1.4\nSepalLengthCm    5.1\nName: 0, dtype: float64\nis- Iris-virginica\nPrediction of Species based on test data-\nPetalLengthCm    1.4\nSepalLengthCm    5.1\nName: 0, dtype: float64\nis- Iris-virginica\nPrediction of Species based on test data-\nPetalLengthCm    1.4\nSepalLengthCm    5.1\nName: 0, dtype: float64\nis- Iris-virginica\nPrediction of Species based on test data-\nPetalLengthCm    1.4\nSepalLengthCm    5.1\nName: 0, dtype: float64\nis- Iris-setosa\nPrediction of Species based on test data-\nPetalLengthCm    1.4\nSepalLengthCm    5.1\nName: 0, dtype: float64\nis- Iris-virginica\nPrediction of Species based on test data-\nPetalLengthCm    1.4\nSepalLengthCm    5.1\nName: 0, dtype: float64\nis- Iris-versicolor\nPrediction of Species based on test data-\nPetalLengthCm    1.4\nSepalLengthCm    5.1\nName: 0, dtype: float64\nis- Iris-setosa\nPrediction of Species based on test data-\nPetalLengthCm    1.4\nSepalLengthCm    5.1\nName: 0, dtype: float64\nis- Iris-versicolor\nPrediction of Species based on test data-\nPetalLengthCm    1.4\nSepalLengthCm    5.1\nName: 0, dtype: float64\nis- Iris-virginica\nPrediction of Species based on test data-\nPetalLengthCm    1.4\nSepalLengthCm    5.1\nName: 0, dtype: float64\nis- Iris-virginica\nPrediction of Species based on test data-\nPetalLengthCm    1.4\nSepalLengthCm    5.1\nName: 0, dtype: float64\nis- Iris-virginica\nPrediction of Species based on test data-\nPetalLengthCm    1.4\nSepalLengthCm    5.1\nName: 0, dtype: float64\nis- Iris-versicolor\nPrediction of Species based on test data-\nPetalLengthCm    1.4\nSepalLengthCm    5.1\nName: 0, dtype: float64\nis- Iris-versicolor\nPrediction of Species based on test data-\nPetalLengthCm    1.4\nSepalLengthCm    5.1\nName: 0, dtype: float64\nis- Iris-setosa\nPrediction of Species based on test data-\nPetalLengthCm    1.4\nSepalLengthCm    5.1\nName: 0, dtype: float64\nis- Iris-virginica\nPrediction of Species based on test data-\nPetalLengthCm    1.4\nSepalLengthCm    5.1\nName: 0, dtype: float64\nis- Iris-setosa\nPrediction of Species based on test data-\nPetalLengthCm    1.4\nSepalLengthCm    5.1\nName: 0, dtype: float64\nis- Iris-virginica\nPrediction of Species based on test data-\nPetalLengthCm    1.4\nSepalLengthCm    5.1\nName: 0, dtype: float64\nis- Iris-versicolor\nPrediction of Species based on test data-\nPetalLengthCm    1.4\nSepalLengthCm    5.1\nName: 0, dtype: float64\nis- Iris-setosa\nPrediction of Species based on test data-\nPetalLengthCm    1.4\nSepalLengthCm    5.1\nName: 0, dtype: float64\nis- Iris-virginica\nPrediction of Species based on test data-\nPetalLengthCm    1.4\nSepalLengthCm    5.1\nName: 0, dtype: float64\nis- Iris-setosa\nPrediction of Species based on test data-\nPetalLengthCm    1.4\nSepalLengthCm    5.1\nName: 0, dtype: float64\nis- Iris-versicolor\nPrediction of Species based on test data-\nPetalLengthCm    1.4\nSepalLengthCm    5.1\nName: 0, dtype: float64\nis- Iris-setosa\nPrediction of Species based on test data-\nPetalLengthCm    1.4\nSepalLengthCm    5.1\nName: 0, dtype: float64\nis- Iris-setosa\nPrediction of Species based on test data-\nPetalLengthCm    1.4\nSepalLengthCm    5.1\nName: 0, dtype: float64\nis- Iris-virginica\nPrediction of Species based on test data-\nPetalLengthCm    1.4\nSepalLengthCm    5.1\nName: 0, dtype: float64\nis- Iris-setosa\nPrediction of Species based on test data-\nPetalLengthCm    1.4\nSepalLengthCm    5.1\nName: 0, dtype: float64\nis- Iris-versicolor\nPrediction of Species based on test data-\nPetalLengthCm    1.4\nSepalLengthCm    5.1\nName: 0, dtype: float64\nis- Iris-setosa\nPrediction of Species based on test data-\nPetalLengthCm    1.4\nSepalLengthCm    5.1\nName: 0, dtype: float64\nis- Iris-setosa\nPrediction of Species based on test data-\nPetalLengthCm    1.4\nSepalLengthCm    5.1\nName: 0, dtype: float64\nis- Iris-versicolor\nPrediction of Species based on test data-\nPetalLengthCm    1.4\nSepalLengthCm    5.1\nName: 0, dtype: float64\nis- Iris-versicolor\nPrediction of Species based on test data-\nPetalLengthCm    1.4\nSepalLengthCm    5.1\nName: 0, dtype: float64\nis- Iris-versicolor\nPrediction of Species based on test data-\nPetalLengthCm    1.4\nSepalLengthCm    5.1\nName: 0, dtype: float64\nis- Iris-setosa\n",
          "name": "stdout"
        }
      ]
    },
    {
      "metadata": {
        "trusted": true
      },
      "cell_type": "code",
      "source": "from sklearn.metrics import accuracy_score\naccuracy = accuracy_score(y_test, final)\naccuracy=accuracy*100\nprint(\"Accuracry is- \",accuracy,'%')",
      "execution_count": 9,
      "outputs": [
        {
          "output_type": "stream",
          "text": "Accuracry is-  92.10526315789474 %\n",
          "name": "stdout"
        }
      ]
    },
    {
      "metadata": {
        "trusted": true
      },
      "cell_type": "code",
      "source": "testSet = [[7.2, 5.1]]\na=(knnpredict(x_train,testSet,y_train,5))\nprint(\"Prediction of Species based on test data-\")\nprint(testSet[0])   \nprint(\"is-\",a) ",
      "execution_count": 10,
      "outputs": [
        {
          "output_type": "stream",
          "text": "Prediction of Species based on test data-\n[7.2, 5.1]\nis- Iris-virginica\n",
          "name": "stdout"
        }
      ]
    },
    {
      "metadata": {
        "trusted": true
      },
      "cell_type": "code",
      "source": "",
      "execution_count": null,
      "outputs": []
    },
    {
      "metadata": {
        "trusted": true
      },
      "cell_type": "code",
      "source": "from sklearn import neighbors\nfrom sklearn.metrics import mean_squared_error \nfrom math import sqrt\nimport matplotlib.pyplot as plt\n%matplotlib inline",
      "execution_count": 15,
      "outputs": []
    },
    {
      "metadata": {
        "trusted": true
      },
      "cell_type": "code",
      "source": "from sklearn.model_selection import train_test_split\nx=df[['SepalLengthCm']]\ny=df['PetalLengthCm']\nx_train,x_test,y_train,y_test=train_test_split(x,y,train_size=0.40)\nprint(x.iloc[0,:])",
      "execution_count": 30,
      "outputs": [
        {
          "output_type": "stream",
          "text": "SepalLengthCm    5.1\nName: 0, dtype: float64\n",
          "name": "stdout"
        },
        {
          "output_type": "stream",
          "text": "/home/nbuser/anaconda3_501/lib/python3.6/site-packages/sklearn/model_selection/_split.py:2179: FutureWarning: From version 0.21, test_size will always complement train_size unless both are specified.\n  FutureWarning)\n",
          "name": "stderr"
        }
      ]
    },
    {
      "metadata": {
        "trusted": true
      },
      "cell_type": "code",
      "source": "rmse=[]\nfor k in range(25):\n    final=[]\n    k = k+1\n    for i in range(len(y_test)):\n        final.append(knnpredict(x_train,x_test.values[i,:],y_train,k))\n        \n    er=sqrt(mean_squared_error(y_test,final))\n    rmse.append(er)\n    print('RMSE error for k value-',k,'is',er)",
      "execution_count": 34,
      "outputs": [
        {
          "output_type": "stream",
          "text": "RMSE error for k value- 1 is 1.209637227528246\nRMSE error for k value- 2 is 1.209637227528246\nRMSE error for k value- 3 is 1.195593762297397\nRMSE error for k value- 4 is 1.1950825169092814\nRMSE error for k value- 5 is 1.211014267279934\nRMSE error for k value- 6 is 1.06013625958595\nRMSE error for k value- 7 is 1.0680719909153022\nRMSE error for k value- 8 is 1.1466375965307336\nRMSE error for k value- 9 is 1.0743473471006582\nRMSE error for k value- 10 is 1.0743473471006582\nRMSE error for k value- 11 is 1.0738818474218763\nRMSE error for k value- 12 is 1.0640071010623524\nRMSE error for k value- 13 is 1.0640071010623524\nRMSE error for k value- 14 is 1.057460269807912\nRMSE error for k value- 15 is 1.057460269807912\nRMSE error for k value- 16 is 1.0514011814927946\nRMSE error for k value- 17 is 1.0706695724327526\nRMSE error for k value- 18 is 1.0706695724327526\nRMSE error for k value- 19 is 1.0706695724327526\nRMSE error for k value- 20 is 1.0706695724327526\nRMSE error for k value- 21 is 0.9163332727052241\nRMSE error for k value- 22 is 0.9163332727052241\nRMSE error for k value- 23 is 0.9171816735097917\nRMSE error for k value- 24 is 0.9208088232032146\nRMSE error for k value- 25 is 0.9208088232032146\n",
          "name": "stdout"
        }
      ]
    },
    {
      "metadata": {
        "trusted": true
      },
      "cell_type": "code",
      "source": "plt.xlabel('K')\nplt.ylabel('RMSE')\nplt.plot(range(25),rmse)\nplt.show()\n",
      "execution_count": 48,
      "outputs": [
        {
          "output_type": "display_data",
          "data": {
            "image/png": "[encoded data removed]",
            "text/plain": "<Figure size 432x288 with 1 Axes>"
          },
          "metadata": {
            "needs_background": "light"
          }
        }
      ]
    },
    {
      "metadata": {
        "trusted": true
      },
      "cell_type": "code",
      "source": "k1=[]\nfor k in range(25):\n    k=k+1\n    k1.append(1/k)\n    \nplt.xlabel('1/K')\nplt.ylabel('RMSE')\nplt.plot(k1,rmse)\nplt.show()\n   ",
      "execution_count": 49,
      "outputs": [
        {
          "output_type": "display_data",
          "data": {
            "image/png": "[encoded data removed]",
            "text/plain": "<Figure size 432x288 with 1 Axes>"
          },
          "metadata": {
            "needs_background": "light"
          }
        }
      ]
    }
  ],
  "metadata": {
    "kernelspec": {
      "name": "python36",
      "display_name": "Python 3.6",
      "language": "python"
    },
    "language_info": {
      "mimetype": "text/x-python",
      "nbconvert_exporter": "python",
      "name": "python",
      "pygments_lexer": "ipython3",
      "version": "3.6.6",
      "file_extension": ".py",
      "codemirror_mode": {
        "version": 3,
        "name": "ipython"
      }
    }
  },
  "nbformat": 4,
  "nbformat_minor": 2
}