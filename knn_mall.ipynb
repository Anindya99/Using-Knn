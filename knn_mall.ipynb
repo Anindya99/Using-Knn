{
  "cells": [
    {
      "metadata": {
        "trusted": true
      },
      "cell_type": "code",
      "source": "import pandas as pd\nimport numpy as np\nimport math\nimport operator\nfrom collections import Counter",
      "execution_count": 1,
      "outputs": []
    },
    {
      "metadata": {
        "trusted": true
      },
      "cell_type": "code",
      "source": "my_sheet = 'Sheet1'\nfile_name = '/home/nbuser/library/BlackFriday2.xlsx'\ndf = pd.read_excel(file_name, sheetname=my_sheet)\ndf.head()\ndf.shape\ndf[\"Product_Category_1\"].fillna(0, inplace=True)\ndf[\"Product_Category_2\"].fillna(0, inplace=True)\ndf[\"Product_Category_3\"].fillna(0, inplace=True)\ndf.head()",
      "execution_count": 3,
      "outputs": [
        {
          "output_type": "execute_result",
          "execution_count": 3,
          "data": {
            "text/html": "<div>\n<style scoped>\n    .dataframe tbody tr th:only-of-type {\n        vertical-align: middle;\n    }\n\n    .dataframe tbody tr th {\n        vertical-align: top;\n    }\n\n    .dataframe thead th {\n        text-align: right;\n    }\n</style>\n<table border=\"1\" class=\"dataframe\">\n  <thead>\n    <tr style=\"text-align: right;\">\n      <th></th>\n      <th>User_ID</th>\n      <th>Product_ID</th>\n      <th>Gender</th>\n      <th>Age</th>\n      <th>Occupation</th>\n      <th>City_Category</th>\n      <th>Stay_In_Current_City_Years</th>\n      <th>Marital_Status</th>\n      <th>Product_Category_1</th>\n      <th>Product_Category_2</th>\n      <th>Product_Category_3</th>\n      <th>Purchase</th>\n    </tr>\n  </thead>\n  <tbody>\n    <tr>\n      <th>0</th>\n      <td>1000001</td>\n      <td>P00069042</td>\n      <td>F</td>\n      <td>0-17</td>\n      <td>10</td>\n      <td>A</td>\n      <td>2</td>\n      <td>0</td>\n      <td>3</td>\n      <td>0.0</td>\n      <td>0.0</td>\n      <td>8370</td>\n    </tr>\n    <tr>\n      <th>1</th>\n      <td>1000001</td>\n      <td>P00248942</td>\n      <td>F</td>\n      <td>0-17</td>\n      <td>10</td>\n      <td>A</td>\n      <td>2</td>\n      <td>0</td>\n      <td>1</td>\n      <td>6.0</td>\n      <td>14.0</td>\n      <td>15200</td>\n    </tr>\n    <tr>\n      <th>2</th>\n      <td>1000001</td>\n      <td>P00087842</td>\n      <td>F</td>\n      <td>0-17</td>\n      <td>10</td>\n      <td>A</td>\n      <td>2</td>\n      <td>0</td>\n      <td>12</td>\n      <td>0.0</td>\n      <td>0.0</td>\n      <td>1422</td>\n    </tr>\n    <tr>\n      <th>3</th>\n      <td>1000001</td>\n      <td>P00085442</td>\n      <td>F</td>\n      <td>0-17</td>\n      <td>10</td>\n      <td>A</td>\n      <td>2</td>\n      <td>0</td>\n      <td>12</td>\n      <td>14.0</td>\n      <td>0.0</td>\n      <td>1057</td>\n    </tr>\n    <tr>\n      <th>4</th>\n      <td>1000002</td>\n      <td>P00285442</td>\n      <td>M</td>\n      <td>55+</td>\n      <td>16</td>\n      <td>C</td>\n      <td>4+</td>\n      <td>0</td>\n      <td>8</td>\n      <td>0.0</td>\n      <td>0.0</td>\n      <td>7969</td>\n    </tr>\n  </tbody>\n</table>\n</div>",
            "text/plain": "   User_ID Product_ID Gender   Age  Occupation City_Category  \\\n0  1000001  P00069042      F  0-17          10             A   \n1  1000001  P00248942      F  0-17          10             A   \n2  1000001  P00087842      F  0-17          10             A   \n3  1000001  P00085442      F  0-17          10             A   \n4  1000002  P00285442      M   55+          16             C   \n\n  Stay_In_Current_City_Years  Marital_Status  Product_Category_1  \\\n0                          2               0                   3   \n1                          2               0                   1   \n2                          2               0                  12   \n3                          2               0                  12   \n4                         4+               0                   8   \n\n   Product_Category_2  Product_Category_3  Purchase  \n0                 0.0                 0.0      8370  \n1                 6.0                14.0     15200  \n2                 0.0                 0.0      1422  \n3                14.0                 0.0      1057  \n4                 0.0                 0.0      7969  "
          },
          "metadata": {}
        }
      ]
    },
    {
      "metadata": {},
      "cell_type": "markdown",
      "source": "## Predicting Marital Status based on various products bought"
    },
    {
      "metadata": {
        "trusted": true
      },
      "cell_type": "code",
      "source": "from sklearn.model_selection import train_test_split\nx=df[[\"Product_Category_1\",'Product_Category_2','Product_Category_3']]\ny=df[\"Marital_Status\"]\nx_train,x_test,y_train,y_test=train_test_split(x,y,train_size=0.90)\nprint(x.iloc[0,:])",
      "execution_count": 4,
      "outputs": [
        {
          "output_type": "stream",
          "text": "Product_Category_1    3.0\nProduct_Category_2    0.0\nProduct_Category_3    0.0\nName: 0, dtype: float64\n",
          "name": "stdout"
        },
        {
          "output_type": "stream",
          "text": "/home/nbuser/anaconda3_501/lib/python3.6/site-packages/sklearn/model_selection/_split.py:2179: FutureWarning: From version 0.21, test_size will always complement train_size unless both are specified.\n  FutureWarning)\n",
          "name": "stderr"
        }
      ]
    },
    {
      "metadata": {
        "trusted": true
      },
      "cell_type": "code",
      "source": "def knnpredict(x_train,x_test,y_train,k):\n    final=[]\n    diff=[]\n    ma=[]\n    for i in range(len(x_train)):\n        dist=np.sqrt(np.sum(np.square(x_train.values[i]-x_test)))\n        diff.append((dist,y_train.values[i]))\n        \n         \n            \n    diff=sorted(diff,key=lambda x: x[0]) \n    for i in range(k):\n        ma.append(diff[i][1])\n        \n    return Counter(ma).most_common(1)[0][0]\n\n",
      "execution_count": 5,
      "outputs": []
    },
    {
      "metadata": {},
      "cell_type": "markdown",
      "source": "## K value=5"
    },
    {
      "metadata": {
        "trusted": true
      },
      "cell_type": "code",
      "source": "f=len(y_test)\nfinal=[]\nfor i in range(f):\n    final.append(knnpredict(x_train,x_test.values[i,:],y_train,5))\n    print(\"Prediction of Species based on test data-\")\n    print(x.iloc[0,:])\n    print(\"is-\",final[i]) ",
      "execution_count": 6,
      "outputs": [
        {
          "output_type": "stream",
          "text": "Prediction of Species based on test data-\nProduct_Category_1    3.0\nProduct_Category_2    0.0\nProduct_Category_3    0.0\nName: 0, dtype: float64\nis- 0\nPrediction of Species based on test data-\nProduct_Category_1    3.0\nProduct_Category_2    0.0\nProduct_Category_3    0.0\nName: 0, dtype: float64\nis- 1\nPrediction of Species based on test data-\nProduct_Category_1    3.0\nProduct_Category_2    0.0\nProduct_Category_3    0.0\nName: 0, dtype: float64\nis- 0\nPrediction of Species based on test data-\nProduct_Category_1    3.0\nProduct_Category_2    0.0\nProduct_Category_3    0.0\nName: 0, dtype: float64\nis- 1\nPrediction of Species based on test data-\nProduct_Category_1    3.0\nProduct_Category_2    0.0\nProduct_Category_3    0.0\nName: 0, dtype: float64\nis- 0\nPrediction of Species based on test data-\nProduct_Category_1    3.0\nProduct_Category_2    0.0\nProduct_Category_3    0.0\nName: 0, dtype: float64\nis- 0\nPrediction of Species based on test data-\nProduct_Category_1    3.0\nProduct_Category_2    0.0\nProduct_Category_3    0.0\nName: 0, dtype: float64\nis- 1\nPrediction of Species based on test data-\nProduct_Category_1    3.0\nProduct_Category_2    0.0\nProduct_Category_3    0.0\nName: 0, dtype: float64\nis- 1\nPrediction of Species based on test data-\nProduct_Category_1    3.0\nProduct_Category_2    0.0\nProduct_Category_3    0.0\nName: 0, dtype: float64\nis- 1\nPrediction of Species based on test data-\nProduct_Category_1    3.0\nProduct_Category_2    0.0\nProduct_Category_3    0.0\nName: 0, dtype: float64\nis- 0\nPrediction of Species based on test data-\nProduct_Category_1    3.0\nProduct_Category_2    0.0\nProduct_Category_3    0.0\nName: 0, dtype: float64\nis- 1\nPrediction of Species based on test data-\nProduct_Category_1    3.0\nProduct_Category_2    0.0\nProduct_Category_3    0.0\nName: 0, dtype: float64\nis- 0\nPrediction of Species based on test data-\nProduct_Category_1    3.0\nProduct_Category_2    0.0\nProduct_Category_3    0.0\nName: 0, dtype: float64\nis- 1\nPrediction of Species based on test data-\nProduct_Category_1    3.0\nProduct_Category_2    0.0\nProduct_Category_3    0.0\nName: 0, dtype: float64\nis- 0\nPrediction of Species based on test data-\nProduct_Category_1    3.0\nProduct_Category_2    0.0\nProduct_Category_3    0.0\nName: 0, dtype: float64\nis- 0\nPrediction of Species based on test data-\nProduct_Category_1    3.0\nProduct_Category_2    0.0\nProduct_Category_3    0.0\nName: 0, dtype: float64\nis- 0\nPrediction of Species based on test data-\nProduct_Category_1    3.0\nProduct_Category_2    0.0\nProduct_Category_3    0.0\nName: 0, dtype: float64\nis- 0\nPrediction of Species based on test data-\nProduct_Category_1    3.0\nProduct_Category_2    0.0\nProduct_Category_3    0.0\nName: 0, dtype: float64\nis- 1\nPrediction of Species based on test data-\nProduct_Category_1    3.0\nProduct_Category_2    0.0\nProduct_Category_3    0.0\nName: 0, dtype: float64\nis- 1\nPrediction of Species based on test data-\nProduct_Category_1    3.0\nProduct_Category_2    0.0\nProduct_Category_3    0.0\nName: 0, dtype: float64\nis- 1\nPrediction of Species based on test data-\nProduct_Category_1    3.0\nProduct_Category_2    0.0\nProduct_Category_3    0.0\nName: 0, dtype: float64\nis- 1\nPrediction of Species based on test data-\nProduct_Category_1    3.0\nProduct_Category_2    0.0\nProduct_Category_3    0.0\nName: 0, dtype: float64\nis- 0\nPrediction of Species based on test data-\nProduct_Category_1    3.0\nProduct_Category_2    0.0\nProduct_Category_3    0.0\nName: 0, dtype: float64\nis- 1\nPrediction of Species based on test data-\nProduct_Category_1    3.0\nProduct_Category_2    0.0\nProduct_Category_3    0.0\nName: 0, dtype: float64\nis- 0\nPrediction of Species based on test data-\nProduct_Category_1    3.0\nProduct_Category_2    0.0\nProduct_Category_3    0.0\nName: 0, dtype: float64\nis- 0\nPrediction of Species based on test data-\nProduct_Category_1    3.0\nProduct_Category_2    0.0\nProduct_Category_3    0.0\nName: 0, dtype: float64\nis- 1\nPrediction of Species based on test data-\nProduct_Category_1    3.0\nProduct_Category_2    0.0\nProduct_Category_3    0.0\nName: 0, dtype: float64\nis- 0\nPrediction of Species based on test data-\nProduct_Category_1    3.0\nProduct_Category_2    0.0\nProduct_Category_3    0.0\nName: 0, dtype: float64\nis- 1\nPrediction of Species based on test data-\nProduct_Category_1    3.0\nProduct_Category_2    0.0\nProduct_Category_3    0.0\nName: 0, dtype: float64\nis- 1\nPrediction of Species based on test data-\nProduct_Category_1    3.0\nProduct_Category_2    0.0\nProduct_Category_3    0.0\nName: 0, dtype: float64\nis- 1\nPrediction of Species based on test data-\nProduct_Category_1    3.0\nProduct_Category_2    0.0\nProduct_Category_3    0.0\nName: 0, dtype: float64\nis- 0\nPrediction of Species based on test data-\nProduct_Category_1    3.0\nProduct_Category_2    0.0\nProduct_Category_3    0.0\nName: 0, dtype: float64\nis- 0\nPrediction of Species based on test data-\nProduct_Category_1    3.0\nProduct_Category_2    0.0\nProduct_Category_3    0.0\nName: 0, dtype: float64\nis- 1\nPrediction of Species based on test data-\nProduct_Category_1    3.0\nProduct_Category_2    0.0\nProduct_Category_3    0.0\nName: 0, dtype: float64\nis- 1\nPrediction of Species based on test data-\nProduct_Category_1    3.0\nProduct_Category_2    0.0\nProduct_Category_3    0.0\nName: 0, dtype: float64\nis- 1\nPrediction of Species based on test data-\nProduct_Category_1    3.0\nProduct_Category_2    0.0\nProduct_Category_3    0.0\nName: 0, dtype: float64\nis- 1\nPrediction of Species based on test data-\nProduct_Category_1    3.0\nProduct_Category_2    0.0\nProduct_Category_3    0.0\nName: 0, dtype: float64\nis- 0\nPrediction of Species based on test data-\nProduct_Category_1    3.0\nProduct_Category_2    0.0\nProduct_Category_3    0.0\nName: 0, dtype: float64\nis- 0\nPrediction of Species based on test data-\nProduct_Category_1    3.0\nProduct_Category_2    0.0\nProduct_Category_3    0.0\nName: 0, dtype: float64\nis- 1\nPrediction of Species based on test data-\nProduct_Category_1    3.0\nProduct_Category_2    0.0\nProduct_Category_3    0.0\nName: 0, dtype: float64\nis- 0\nPrediction of Species based on test data-\nProduct_Category_1    3.0\nProduct_Category_2    0.0\nProduct_Category_3    0.0\nName: 0, dtype: float64\nis- 1\nPrediction of Species based on test data-\nProduct_Category_1    3.0\nProduct_Category_2    0.0\nProduct_Category_3    0.0\nName: 0, dtype: float64\nis- 0\nPrediction of Species based on test data-\nProduct_Category_1    3.0\nProduct_Category_2    0.0\nProduct_Category_3    0.0\nName: 0, dtype: float64\nis- 0\nPrediction of Species based on test data-\nProduct_Category_1    3.0\nProduct_Category_2    0.0\nProduct_Category_3    0.0\nName: 0, dtype: float64\nis- 0\nPrediction of Species based on test data-\nProduct_Category_1    3.0\nProduct_Category_2    0.0\nProduct_Category_3    0.0\nName: 0, dtype: float64\nis- 1\nPrediction of Species based on test data-\nProduct_Category_1    3.0\nProduct_Category_2    0.0\nProduct_Category_3    0.0\nName: 0, dtype: float64\nis- 0\nPrediction of Species based on test data-\nProduct_Category_1    3.0\nProduct_Category_2    0.0\nProduct_Category_3    0.0\nName: 0, dtype: float64\nis- 1\nPrediction of Species based on test data-\nProduct_Category_1    3.0\nProduct_Category_2    0.0\nProduct_Category_3    0.0\nName: 0, dtype: float64\nis- 1\nPrediction of Species based on test data-\nProduct_Category_1    3.0\nProduct_Category_2    0.0\nProduct_Category_3    0.0\nName: 0, dtype: float64\nis- 1\nPrediction of Species based on test data-\nProduct_Category_1    3.0\nProduct_Category_2    0.0\nProduct_Category_3    0.0\nName: 0, dtype: float64\nis- 1\nPrediction of Species based on test data-\nProduct_Category_1    3.0\nProduct_Category_2    0.0\nProduct_Category_3    0.0\nName: 0, dtype: float64\nis- 1\nPrediction of Species based on test data-\nProduct_Category_1    3.0\nProduct_Category_2    0.0\nProduct_Category_3    0.0\nName: 0, dtype: float64\nis- 0\nPrediction of Species based on test data-\nProduct_Category_1    3.0\nProduct_Category_2    0.0\nProduct_Category_3    0.0\nName: 0, dtype: float64\nis- 0\nPrediction of Species based on test data-\nProduct_Category_1    3.0\nProduct_Category_2    0.0\nProduct_Category_3    0.0\nName: 0, dtype: float64\nis- 0\nPrediction of Species based on test data-\nProduct_Category_1    3.0\nProduct_Category_2    0.0\nProduct_Category_3    0.0\nName: 0, dtype: float64\nis- 0\n",
          "name": "stdout"
        }
      ]
    },
    {
      "metadata": {
        "trusted": true
      },
      "cell_type": "code",
      "source": "from sklearn.metrics import accuracy_score\naccuracy = accuracy_score(y_test, final)\naccuracy=accuracy*100\nprint(\"Accuracry is- \",accuracy,'%')",
      "execution_count": 7,
      "outputs": [
        {
          "output_type": "stream",
          "text": "Accuracry is-  38.18181818181819 %\n",
          "name": "stdout"
        }
      ]
    },
    {
      "metadata": {},
      "cell_type": "markdown",
      "source": "## K value=9"
    },
    {
      "metadata": {
        "trusted": true
      },
      "cell_type": "code",
      "source": "f=len(y_test)\nfinal=[]\nfor i in range(f):\n    final.append(knnpredict(x_train,x_test.values[i,:],y_train,9))\n    print(\"Prediction of Species based on test data-\")\n    print(x.iloc[0,:])\n    print(\"is-\",final[i]) ",
      "execution_count": 8,
      "outputs": [
        {
          "output_type": "stream",
          "text": "Prediction of Species based on test data-\nProduct_Category_1    3.0\nProduct_Category_2    0.0\nProduct_Category_3    0.0\nName: 0, dtype: float64\nis- 0\nPrediction of Species based on test data-\nProduct_Category_1    3.0\nProduct_Category_2    0.0\nProduct_Category_3    0.0\nName: 0, dtype: float64\nis- 1\nPrediction of Species based on test data-\nProduct_Category_1    3.0\nProduct_Category_2    0.0\nProduct_Category_3    0.0\nName: 0, dtype: float64\nis- 0\nPrediction of Species based on test data-\nProduct_Category_1    3.0\nProduct_Category_2    0.0\nProduct_Category_3    0.0\nName: 0, dtype: float64\nis- 1\nPrediction of Species based on test data-\nProduct_Category_1    3.0\nProduct_Category_2    0.0\nProduct_Category_3    0.0\nName: 0, dtype: float64\nis- 0\nPrediction of Species based on test data-\nProduct_Category_1    3.0\nProduct_Category_2    0.0\nProduct_Category_3    0.0\nName: 0, dtype: float64\nis- 0\nPrediction of Species based on test data-\nProduct_Category_1    3.0\nProduct_Category_2    0.0\nProduct_Category_3    0.0\nName: 0, dtype: float64\nis- 0\nPrediction of Species based on test data-\nProduct_Category_1    3.0\nProduct_Category_2    0.0\nProduct_Category_3    0.0\nName: 0, dtype: float64\nis- 1\nPrediction of Species based on test data-\nProduct_Category_1    3.0\nProduct_Category_2    0.0\nProduct_Category_3    0.0\nName: 0, dtype: float64\nis- 1\nPrediction of Species based on test data-\nProduct_Category_1    3.0\nProduct_Category_2    0.0\nProduct_Category_3    0.0\nName: 0, dtype: float64\nis- 1\nPrediction of Species based on test data-\nProduct_Category_1    3.0\nProduct_Category_2    0.0\nProduct_Category_3    0.0\nName: 0, dtype: float64\nis- 1\nPrediction of Species based on test data-\nProduct_Category_1    3.0\nProduct_Category_2    0.0\nProduct_Category_3    0.0\nName: 0, dtype: float64\nis- 1\nPrediction of Species based on test data-\nProduct_Category_1    3.0\nProduct_Category_2    0.0\nProduct_Category_3    0.0\nName: 0, dtype: float64\nis- 1\nPrediction of Species based on test data-\nProduct_Category_1    3.0\nProduct_Category_2    0.0\nProduct_Category_3    0.0\nName: 0, dtype: float64\nis- 0\nPrediction of Species based on test data-\nProduct_Category_1    3.0\nProduct_Category_2    0.0\nProduct_Category_3    0.0\nName: 0, dtype: float64\nis- 0\nPrediction of Species based on test data-\nProduct_Category_1    3.0\nProduct_Category_2    0.0\nProduct_Category_3    0.0\nName: 0, dtype: float64\nis- 0\nPrediction of Species based on test data-\nProduct_Category_1    3.0\nProduct_Category_2    0.0\nProduct_Category_3    0.0\nName: 0, dtype: float64\nis- 1\nPrediction of Species based on test data-\nProduct_Category_1    3.0\nProduct_Category_2    0.0\nProduct_Category_3    0.0\nName: 0, dtype: float64\nis- 1\nPrediction of Species based on test data-\nProduct_Category_1    3.0\nProduct_Category_2    0.0\nProduct_Category_3    0.0\nName: 0, dtype: float64\nis- 1\nPrediction of Species based on test data-\nProduct_Category_1    3.0\nProduct_Category_2    0.0\nProduct_Category_3    0.0\nName: 0, dtype: float64\nis- 0\nPrediction of Species based on test data-\nProduct_Category_1    3.0\nProduct_Category_2    0.0\nProduct_Category_3    0.0\nName: 0, dtype: float64\nis- 0\nPrediction of Species based on test data-\nProduct_Category_1    3.0\nProduct_Category_2    0.0\nProduct_Category_3    0.0\nName: 0, dtype: float64\nis- 1\nPrediction of Species based on test data-\nProduct_Category_1    3.0\nProduct_Category_2    0.0\nProduct_Category_3    0.0\nName: 0, dtype: float64\nis- 1\nPrediction of Species based on test data-\nProduct_Category_1    3.0\nProduct_Category_2    0.0\nProduct_Category_3    0.0\nName: 0, dtype: float64\nis- 1\nPrediction of Species based on test data-\nProduct_Category_1    3.0\nProduct_Category_2    0.0\nProduct_Category_3    0.0\nName: 0, dtype: float64\nis- 0\nPrediction of Species based on test data-\nProduct_Category_1    3.0\nProduct_Category_2    0.0\nProduct_Category_3    0.0\nName: 0, dtype: float64\nis- 1\nPrediction of Species based on test data-\nProduct_Category_1    3.0\nProduct_Category_2    0.0\nProduct_Category_3    0.0\nName: 0, dtype: float64\nis- 0\nPrediction of Species based on test data-\nProduct_Category_1    3.0\nProduct_Category_2    0.0\nProduct_Category_3    0.0\nName: 0, dtype: float64\nis- 1\nPrediction of Species based on test data-\nProduct_Category_1    3.0\nProduct_Category_2    0.0\nProduct_Category_3    0.0\nName: 0, dtype: float64\nis- 1\nPrediction of Species based on test data-\nProduct_Category_1    3.0\nProduct_Category_2    0.0\nProduct_Category_3    0.0\nName: 0, dtype: float64\nis- 1\nPrediction of Species based on test data-\nProduct_Category_1    3.0\nProduct_Category_2    0.0\nProduct_Category_3    0.0\nName: 0, dtype: float64\nis- 0\nPrediction of Species based on test data-\nProduct_Category_1    3.0\nProduct_Category_2    0.0\nProduct_Category_3    0.0\nName: 0, dtype: float64\nis- 0\nPrediction of Species based on test data-\nProduct_Category_1    3.0\nProduct_Category_2    0.0\nProduct_Category_3    0.0\nName: 0, dtype: float64\nis- 0\nPrediction of Species based on test data-\nProduct_Category_1    3.0\nProduct_Category_2    0.0\nProduct_Category_3    0.0\nName: 0, dtype: float64\nis- 1\nPrediction of Species based on test data-\nProduct_Category_1    3.0\nProduct_Category_2    0.0\nProduct_Category_3    0.0\nName: 0, dtype: float64\nis- 1\nPrediction of Species based on test data-\nProduct_Category_1    3.0\nProduct_Category_2    0.0\nProduct_Category_3    0.0\nName: 0, dtype: float64\nis- 1\nPrediction of Species based on test data-\nProduct_Category_1    3.0\nProduct_Category_2    0.0\nProduct_Category_3    0.0\nName: 0, dtype: float64\nis- 1\nPrediction of Species based on test data-\nProduct_Category_1    3.0\nProduct_Category_2    0.0\nProduct_Category_3    0.0\nName: 0, dtype: float64\nis- 0\nPrediction of Species based on test data-\nProduct_Category_1    3.0\nProduct_Category_2    0.0\nProduct_Category_3    0.0\nName: 0, dtype: float64\nis- 1\nPrediction of Species based on test data-\nProduct_Category_1    3.0\nProduct_Category_2    0.0\nProduct_Category_3    0.0\nName: 0, dtype: float64\nis- 0\nPrediction of Species based on test data-\nProduct_Category_1    3.0\nProduct_Category_2    0.0\nProduct_Category_3    0.0\nName: 0, dtype: float64\nis- 1\nPrediction of Species based on test data-\nProduct_Category_1    3.0\nProduct_Category_2    0.0\nProduct_Category_3    0.0\nName: 0, dtype: float64\nis- 0\nPrediction of Species based on test data-\nProduct_Category_1    3.0\nProduct_Category_2    0.0\nProduct_Category_3    0.0\nName: 0, dtype: float64\nis- 0\nPrediction of Species based on test data-\nProduct_Category_1    3.0\nProduct_Category_2    0.0\nProduct_Category_3    0.0\nName: 0, dtype: float64\nis- 0\nPrediction of Species based on test data-\nProduct_Category_1    3.0\nProduct_Category_2    0.0\nProduct_Category_3    0.0\nName: 0, dtype: float64\nis- 1\nPrediction of Species based on test data-\nProduct_Category_1    3.0\nProduct_Category_2    0.0\nProduct_Category_3    0.0\nName: 0, dtype: float64\nis- 0\nPrediction of Species based on test data-\nProduct_Category_1    3.0\nProduct_Category_2    0.0\nProduct_Category_3    0.0\nName: 0, dtype: float64\nis- 0\nPrediction of Species based on test data-\nProduct_Category_1    3.0\nProduct_Category_2    0.0\nProduct_Category_3    0.0\nName: 0, dtype: float64\nis- 1\nPrediction of Species based on test data-\nProduct_Category_1    3.0\nProduct_Category_2    0.0\nProduct_Category_3    0.0\nName: 0, dtype: float64\nis- 0\nPrediction of Species based on test data-\nProduct_Category_1    3.0\nProduct_Category_2    0.0\nProduct_Category_3    0.0\nName: 0, dtype: float64\nis- 1\nPrediction of Species based on test data-\nProduct_Category_1    3.0\nProduct_Category_2    0.0\nProduct_Category_3    0.0\nName: 0, dtype: float64\nis- 1\nPrediction of Species based on test data-\nProduct_Category_1    3.0\nProduct_Category_2    0.0\nProduct_Category_3    0.0\nName: 0, dtype: float64\nis- 1\nPrediction of Species based on test data-\nProduct_Category_1    3.0\nProduct_Category_2    0.0\nProduct_Category_3    0.0\nName: 0, dtype: float64\nis- 0\nPrediction of Species based on test data-\nProduct_Category_1    3.0\nProduct_Category_2    0.0\nProduct_Category_3    0.0\nName: 0, dtype: float64\nis- 0\nPrediction of Species based on test data-\nProduct_Category_1    3.0\nProduct_Category_2    0.0\nProduct_Category_3    0.0\nName: 0, dtype: float64\nis- 0\n",
          "name": "stdout"
        }
      ]
    },
    {
      "metadata": {
        "trusted": true
      },
      "cell_type": "code",
      "source": "from sklearn.metrics import accuracy_score\naccuracy = accuracy_score(y_test, final)\naccuracy=accuracy*100\nprint(\"Accuracry is- \",accuracy,'%')",
      "execution_count": 9,
      "outputs": [
        {
          "output_type": "stream",
          "text": "Accuracry is-  54.54545454545454 %\n",
          "name": "stdout"
        }
      ]
    },
    {
      "metadata": {},
      "cell_type": "markdown",
      "source": "## Predicting Gender based on various products bought"
    },
    {
      "metadata": {
        "trusted": true
      },
      "cell_type": "code",
      "source": "from sklearn.model_selection import train_test_split\nx=df[[\"Product_Category_1\",'Product_Category_2','Product_Category_3']]\ny=df[\"Gender\"]\nx_train,x_test,y_train,y_test=train_test_split(x,y,train_size=0.90)\nprint(x.iloc[0,:])",
      "execution_count": 10,
      "outputs": [
        {
          "output_type": "stream",
          "text": "Product_Category_1    3.0\nProduct_Category_2    0.0\nProduct_Category_3    0.0\nName: 0, dtype: float64\n",
          "name": "stdout"
        }
      ]
    },
    {
      "metadata": {},
      "cell_type": "markdown",
      "source": "## K value=5"
    },
    {
      "metadata": {
        "trusted": true
      },
      "cell_type": "code",
      "source": "f=len(y_test)\nfinal=[]\nfor i in range(f):\n    final.append(knnpredict(x_train,x_test.values[i,:],y_train,5))\n    print(\"Prediction of Species based on test data-\")\n    print(x.iloc[0,:])\n    print(\"is-\",final[i]) ",
      "execution_count": 11,
      "outputs": [
        {
          "output_type": "stream",
          "text": "Prediction of Species based on test data-\nProduct_Category_1    3.0\nProduct_Category_2    0.0\nProduct_Category_3    0.0\nName: 0, dtype: float64\nis- M\nPrediction of Species based on test data-\nProduct_Category_1    3.0\nProduct_Category_2    0.0\nProduct_Category_3    0.0\nName: 0, dtype: float64\nis- M\nPrediction of Species based on test data-\nProduct_Category_1    3.0\nProduct_Category_2    0.0\nProduct_Category_3    0.0\nName: 0, dtype: float64\nis- F\nPrediction of Species based on test data-\nProduct_Category_1    3.0\nProduct_Category_2    0.0\nProduct_Category_3    0.0\nName: 0, dtype: float64\nis- F\nPrediction of Species based on test data-\nProduct_Category_1    3.0\nProduct_Category_2    0.0\nProduct_Category_3    0.0\nName: 0, dtype: float64\nis- M\nPrediction of Species based on test data-\nProduct_Category_1    3.0\nProduct_Category_2    0.0\nProduct_Category_3    0.0\nName: 0, dtype: float64\nis- M\nPrediction of Species based on test data-\nProduct_Category_1    3.0\nProduct_Category_2    0.0\nProduct_Category_3    0.0\nName: 0, dtype: float64\nis- M\nPrediction of Species based on test data-\nProduct_Category_1    3.0\nProduct_Category_2    0.0\nProduct_Category_3    0.0\nName: 0, dtype: float64\nis- F\nPrediction of Species based on test data-\nProduct_Category_1    3.0\nProduct_Category_2    0.0\nProduct_Category_3    0.0\nName: 0, dtype: float64\nis- M\nPrediction of Species based on test data-\nProduct_Category_1    3.0\nProduct_Category_2    0.0\nProduct_Category_3    0.0\nName: 0, dtype: float64\nis- M\nPrediction of Species based on test data-\nProduct_Category_1    3.0\nProduct_Category_2    0.0\nProduct_Category_3    0.0\nName: 0, dtype: float64\nis- M\nPrediction of Species based on test data-\nProduct_Category_1    3.0\nProduct_Category_2    0.0\nProduct_Category_3    0.0\nName: 0, dtype: float64\nis- M\nPrediction of Species based on test data-\nProduct_Category_1    3.0\nProduct_Category_2    0.0\nProduct_Category_3    0.0\nName: 0, dtype: float64\nis- M\nPrediction of Species based on test data-\nProduct_Category_1    3.0\nProduct_Category_2    0.0\nProduct_Category_3    0.0\nName: 0, dtype: float64\nis- M\nPrediction of Species based on test data-\nProduct_Category_1    3.0\nProduct_Category_2    0.0\nProduct_Category_3    0.0\nName: 0, dtype: float64\nis- M\nPrediction of Species based on test data-\nProduct_Category_1    3.0\nProduct_Category_2    0.0\nProduct_Category_3    0.0\nName: 0, dtype: float64\nis- M\nPrediction of Species based on test data-\nProduct_Category_1    3.0\nProduct_Category_2    0.0\nProduct_Category_3    0.0\nName: 0, dtype: float64\nis- M\nPrediction of Species based on test data-\nProduct_Category_1    3.0\nProduct_Category_2    0.0\nProduct_Category_3    0.0\nName: 0, dtype: float64\nis- M\nPrediction of Species based on test data-\nProduct_Category_1    3.0\nProduct_Category_2    0.0\nProduct_Category_3    0.0\nName: 0, dtype: float64\nis- F\nPrediction of Species based on test data-\nProduct_Category_1    3.0\nProduct_Category_2    0.0\nProduct_Category_3    0.0\nName: 0, dtype: float64\nis- M\nPrediction of Species based on test data-\nProduct_Category_1    3.0\nProduct_Category_2    0.0\nProduct_Category_3    0.0\nName: 0, dtype: float64\nis- M\nPrediction of Species based on test data-\nProduct_Category_1    3.0\nProduct_Category_2    0.0\nProduct_Category_3    0.0\nName: 0, dtype: float64\nis- M\nPrediction of Species based on test data-\nProduct_Category_1    3.0\nProduct_Category_2    0.0\nProduct_Category_3    0.0\nName: 0, dtype: float64\nis- M\nPrediction of Species based on test data-\nProduct_Category_1    3.0\nProduct_Category_2    0.0\nProduct_Category_3    0.0\nName: 0, dtype: float64\nis- M\nPrediction of Species based on test data-\nProduct_Category_1    3.0\nProduct_Category_2    0.0\nProduct_Category_3    0.0\nName: 0, dtype: float64\nis- M\nPrediction of Species based on test data-\nProduct_Category_1    3.0\nProduct_Category_2    0.0\nProduct_Category_3    0.0\nName: 0, dtype: float64\nis- M\nPrediction of Species based on test data-\nProduct_Category_1    3.0\nProduct_Category_2    0.0\nProduct_Category_3    0.0\nName: 0, dtype: float64\nis- M\nPrediction of Species based on test data-\nProduct_Category_1    3.0\nProduct_Category_2    0.0\nProduct_Category_3    0.0\nName: 0, dtype: float64\nis- M\nPrediction of Species based on test data-\nProduct_Category_1    3.0\nProduct_Category_2    0.0\nProduct_Category_3    0.0\nName: 0, dtype: float64\nis- M\nPrediction of Species based on test data-\nProduct_Category_1    3.0\nProduct_Category_2    0.0\nProduct_Category_3    0.0\nName: 0, dtype: float64\nis- M\nPrediction of Species based on test data-\nProduct_Category_1    3.0\nProduct_Category_2    0.0\nProduct_Category_3    0.0\nName: 0, dtype: float64\nis- M\nPrediction of Species based on test data-\nProduct_Category_1    3.0\nProduct_Category_2    0.0\nProduct_Category_3    0.0\nName: 0, dtype: float64\nis- M\nPrediction of Species based on test data-\nProduct_Category_1    3.0\nProduct_Category_2    0.0\nProduct_Category_3    0.0\nName: 0, dtype: float64\nis- M\nPrediction of Species based on test data-\nProduct_Category_1    3.0\nProduct_Category_2    0.0\nProduct_Category_3    0.0\nName: 0, dtype: float64\nis- M\nPrediction of Species based on test data-\nProduct_Category_1    3.0\nProduct_Category_2    0.0\nProduct_Category_3    0.0\nName: 0, dtype: float64\nis- F\nPrediction of Species based on test data-\nProduct_Category_1    3.0\nProduct_Category_2    0.0\nProduct_Category_3    0.0\nName: 0, dtype: float64\nis- M\nPrediction of Species based on test data-\nProduct_Category_1    3.0\nProduct_Category_2    0.0\nProduct_Category_3    0.0\nName: 0, dtype: float64\nis- M\nPrediction of Species based on test data-\nProduct_Category_1    3.0\nProduct_Category_2    0.0\nProduct_Category_3    0.0\nName: 0, dtype: float64\nis- F\nPrediction of Species based on test data-\nProduct_Category_1    3.0\nProduct_Category_2    0.0\nProduct_Category_3    0.0\nName: 0, dtype: float64\nis- M\nPrediction of Species based on test data-\nProduct_Category_1    3.0\nProduct_Category_2    0.0\nProduct_Category_3    0.0\nName: 0, dtype: float64\nis- M\nPrediction of Species based on test data-\nProduct_Category_1    3.0\nProduct_Category_2    0.0\nProduct_Category_3    0.0\nName: 0, dtype: float64\nis- M\nPrediction of Species based on test data-\nProduct_Category_1    3.0\nProduct_Category_2    0.0\nProduct_Category_3    0.0\nName: 0, dtype: float64\nis- F\nPrediction of Species based on test data-\nProduct_Category_1    3.0\nProduct_Category_2    0.0\nProduct_Category_3    0.0\nName: 0, dtype: float64\nis- M\nPrediction of Species based on test data-\nProduct_Category_1    3.0\nProduct_Category_2    0.0\nProduct_Category_3    0.0\nName: 0, dtype: float64\nis- M\nPrediction of Species based on test data-\nProduct_Category_1    3.0\nProduct_Category_2    0.0\nProduct_Category_3    0.0\nName: 0, dtype: float64\nis- M\nPrediction of Species based on test data-\nProduct_Category_1    3.0\nProduct_Category_2    0.0\nProduct_Category_3    0.0\nName: 0, dtype: float64\nis- M\nPrediction of Species based on test data-\nProduct_Category_1    3.0\nProduct_Category_2    0.0\nProduct_Category_3    0.0\nName: 0, dtype: float64\nis- M\nPrediction of Species based on test data-\nProduct_Category_1    3.0\nProduct_Category_2    0.0\nProduct_Category_3    0.0\nName: 0, dtype: float64\nis- M\nPrediction of Species based on test data-\nProduct_Category_1    3.0\nProduct_Category_2    0.0\nProduct_Category_3    0.0\nName: 0, dtype: float64\nis- M\nPrediction of Species based on test data-\nProduct_Category_1    3.0\nProduct_Category_2    0.0\nProduct_Category_3    0.0\nName: 0, dtype: float64\nis- M\nPrediction of Species based on test data-\nProduct_Category_1    3.0\nProduct_Category_2    0.0\nProduct_Category_3    0.0\nName: 0, dtype: float64\nis- M\nPrediction of Species based on test data-\nProduct_Category_1    3.0\nProduct_Category_2    0.0\nProduct_Category_3    0.0\nName: 0, dtype: float64\nis- M\nPrediction of Species based on test data-\nProduct_Category_1    3.0\nProduct_Category_2    0.0\nProduct_Category_3    0.0\nName: 0, dtype: float64\nis- F\nPrediction of Species based on test data-\nProduct_Category_1    3.0\nProduct_Category_2    0.0\nProduct_Category_3    0.0\nName: 0, dtype: float64\nis- M\nPrediction of Species based on test data-\nProduct_Category_1    3.0\nProduct_Category_2    0.0\nProduct_Category_3    0.0\nName: 0, dtype: float64\nis- M\n",
          "name": "stdout"
        }
      ]
    },
    {
      "metadata": {
        "trusted": true
      },
      "cell_type": "code",
      "source": "from sklearn.metrics import accuracy_score\naccuracy = accuracy_score(y_test, final)\naccuracy=accuracy*100\nprint(\"Accuracry is-  \",accuracy,'%')",
      "execution_count": 12,
      "outputs": [
        {
          "output_type": "stream",
          "text": "Accuracry is-   58.18181818181818 %\n",
          "name": "stdout"
        }
      ]
    },
    {
      "metadata": {},
      "cell_type": "markdown",
      "source": "## K value=9"
    },
    {
      "metadata": {
        "trusted": true
      },
      "cell_type": "code",
      "source": "f=len(y_test)\nfinal=[]\nfor i in range(f):\n    final.append(knnpredict(x_train,x_test.values[i,:],y_train,9))\n    print(\"Prediction of Species based on test data-\")\n    print(x.iloc[0,:])\n    print(\"is-\",final[i]) ",
      "execution_count": 13,
      "outputs": [
        {
          "output_type": "stream",
          "text": "Prediction of Species based on test data-\nProduct_Category_1    3.0\nProduct_Category_2    0.0\nProduct_Category_3    0.0\nName: 0, dtype: float64\nis- M\nPrediction of Species based on test data-\nProduct_Category_1    3.0\nProduct_Category_2    0.0\nProduct_Category_3    0.0\nName: 0, dtype: float64\nis- M\nPrediction of Species based on test data-\nProduct_Category_1    3.0\nProduct_Category_2    0.0\nProduct_Category_3    0.0\nName: 0, dtype: float64\nis- M\nPrediction of Species based on test data-\nProduct_Category_1    3.0\nProduct_Category_2    0.0\nProduct_Category_3    0.0\nName: 0, dtype: float64\nis- F\nPrediction of Species based on test data-\nProduct_Category_1    3.0\nProduct_Category_2    0.0\nProduct_Category_3    0.0\nName: 0, dtype: float64\nis- M\nPrediction of Species based on test data-\nProduct_Category_1    3.0\nProduct_Category_2    0.0\nProduct_Category_3    0.0\nName: 0, dtype: float64\nis- M\nPrediction of Species based on test data-\nProduct_Category_1    3.0\nProduct_Category_2    0.0\nProduct_Category_3    0.0\nName: 0, dtype: float64\nis- M\nPrediction of Species based on test data-\nProduct_Category_1    3.0\nProduct_Category_2    0.0\nProduct_Category_3    0.0\nName: 0, dtype: float64\nis- F\nPrediction of Species based on test data-\nProduct_Category_1    3.0\nProduct_Category_2    0.0\nProduct_Category_3    0.0\nName: 0, dtype: float64\nis- M\nPrediction of Species based on test data-\nProduct_Category_1    3.0\nProduct_Category_2    0.0\nProduct_Category_3    0.0\nName: 0, dtype: float64\nis- M\nPrediction of Species based on test data-\nProduct_Category_1    3.0\nProduct_Category_2    0.0\nProduct_Category_3    0.0\nName: 0, dtype: float64\nis- M\nPrediction of Species based on test data-\nProduct_Category_1    3.0\nProduct_Category_2    0.0\nProduct_Category_3    0.0\nName: 0, dtype: float64\nis- M\nPrediction of Species based on test data-\nProduct_Category_1    3.0\nProduct_Category_2    0.0\nProduct_Category_3    0.0\nName: 0, dtype: float64\nis- M\nPrediction of Species based on test data-\nProduct_Category_1    3.0\nProduct_Category_2    0.0\nProduct_Category_3    0.0\nName: 0, dtype: float64\nis- M\nPrediction of Species based on test data-\nProduct_Category_1    3.0\nProduct_Category_2    0.0\nProduct_Category_3    0.0\nName: 0, dtype: float64\nis- M\nPrediction of Species based on test data-\nProduct_Category_1    3.0\nProduct_Category_2    0.0\nProduct_Category_3    0.0\nName: 0, dtype: float64\nis- M\nPrediction of Species based on test data-\nProduct_Category_1    3.0\nProduct_Category_2    0.0\nProduct_Category_3    0.0\nName: 0, dtype: float64\nis- M\nPrediction of Species based on test data-\nProduct_Category_1    3.0\nProduct_Category_2    0.0\nProduct_Category_3    0.0\nName: 0, dtype: float64\nis- M\nPrediction of Species based on test data-\nProduct_Category_1    3.0\nProduct_Category_2    0.0\nProduct_Category_3    0.0\nName: 0, dtype: float64\nis- M\nPrediction of Species based on test data-\nProduct_Category_1    3.0\nProduct_Category_2    0.0\nProduct_Category_3    0.0\nName: 0, dtype: float64\nis- M\nPrediction of Species based on test data-\nProduct_Category_1    3.0\nProduct_Category_2    0.0\nProduct_Category_3    0.0\nName: 0, dtype: float64\nis- M\nPrediction of Species based on test data-\nProduct_Category_1    3.0\nProduct_Category_2    0.0\nProduct_Category_3    0.0\nName: 0, dtype: float64\nis- M\nPrediction of Species based on test data-\nProduct_Category_1    3.0\nProduct_Category_2    0.0\nProduct_Category_3    0.0\nName: 0, dtype: float64\nis- M\nPrediction of Species based on test data-\nProduct_Category_1    3.0\nProduct_Category_2    0.0\nProduct_Category_3    0.0\nName: 0, dtype: float64\nis- M\nPrediction of Species based on test data-\nProduct_Category_1    3.0\nProduct_Category_2    0.0\nProduct_Category_3    0.0\nName: 0, dtype: float64\nis- M\nPrediction of Species based on test data-\nProduct_Category_1    3.0\nProduct_Category_2    0.0\nProduct_Category_3    0.0\nName: 0, dtype: float64\nis- M\nPrediction of Species based on test data-\nProduct_Category_1    3.0\nProduct_Category_2    0.0\nProduct_Category_3    0.0\nName: 0, dtype: float64\nis- M\nPrediction of Species based on test data-\nProduct_Category_1    3.0\nProduct_Category_2    0.0\nProduct_Category_3    0.0\nName: 0, dtype: float64\nis- F\nPrediction of Species based on test data-\nProduct_Category_1    3.0\nProduct_Category_2    0.0\nProduct_Category_3    0.0\nName: 0, dtype: float64\nis- M\nPrediction of Species based on test data-\nProduct_Category_1    3.0\nProduct_Category_2    0.0\nProduct_Category_3    0.0\nName: 0, dtype: float64\nis- M\nPrediction of Species based on test data-\nProduct_Category_1    3.0\nProduct_Category_2    0.0\nProduct_Category_3    0.0\nName: 0, dtype: float64\nis- M\nPrediction of Species based on test data-\nProduct_Category_1    3.0\nProduct_Category_2    0.0\nProduct_Category_3    0.0\nName: 0, dtype: float64\nis- M\nPrediction of Species based on test data-\nProduct_Category_1    3.0\nProduct_Category_2    0.0\nProduct_Category_3    0.0\nName: 0, dtype: float64\nis- M\nPrediction of Species based on test data-\nProduct_Category_1    3.0\nProduct_Category_2    0.0\nProduct_Category_3    0.0\nName: 0, dtype: float64\nis- M\nPrediction of Species based on test data-\nProduct_Category_1    3.0\nProduct_Category_2    0.0\nProduct_Category_3    0.0\nName: 0, dtype: float64\nis- M\nPrediction of Species based on test data-\nProduct_Category_1    3.0\nProduct_Category_2    0.0\nProduct_Category_3    0.0\nName: 0, dtype: float64\nis- M\nPrediction of Species based on test data-\nProduct_Category_1    3.0\nProduct_Category_2    0.0\nProduct_Category_3    0.0\nName: 0, dtype: float64\nis- M\nPrediction of Species based on test data-\nProduct_Category_1    3.0\nProduct_Category_2    0.0\nProduct_Category_3    0.0\nName: 0, dtype: float64\nis- M\nPrediction of Species based on test data-\nProduct_Category_1    3.0\nProduct_Category_2    0.0\nProduct_Category_3    0.0\nName: 0, dtype: float64\nis- M\nPrediction of Species based on test data-\nProduct_Category_1    3.0\nProduct_Category_2    0.0\nProduct_Category_3    0.0\nName: 0, dtype: float64\nis- M\nPrediction of Species based on test data-\nProduct_Category_1    3.0\nProduct_Category_2    0.0\nProduct_Category_3    0.0\nName: 0, dtype: float64\nis- M\nPrediction of Species based on test data-\nProduct_Category_1    3.0\nProduct_Category_2    0.0\nProduct_Category_3    0.0\nName: 0, dtype: float64\nis- M\nPrediction of Species based on test data-\nProduct_Category_1    3.0\nProduct_Category_2    0.0\nProduct_Category_3    0.0\nName: 0, dtype: float64\nis- M\nPrediction of Species based on test data-\nProduct_Category_1    3.0\nProduct_Category_2    0.0\nProduct_Category_3    0.0\nName: 0, dtype: float64\nis- M\nPrediction of Species based on test data-\nProduct_Category_1    3.0\nProduct_Category_2    0.0\nProduct_Category_3    0.0\nName: 0, dtype: float64\nis- M\nPrediction of Species based on test data-\nProduct_Category_1    3.0\nProduct_Category_2    0.0\nProduct_Category_3    0.0\nName: 0, dtype: float64\nis- M\nPrediction of Species based on test data-\nProduct_Category_1    3.0\nProduct_Category_2    0.0\nProduct_Category_3    0.0\nName: 0, dtype: float64\nis- M\nPrediction of Species based on test data-\nProduct_Category_1    3.0\nProduct_Category_2    0.0\nProduct_Category_3    0.0\nName: 0, dtype: float64\nis- M\nPrediction of Species based on test data-\nProduct_Category_1    3.0\nProduct_Category_2    0.0\nProduct_Category_3    0.0\nName: 0, dtype: float64\nis- M\nPrediction of Species based on test data-\nProduct_Category_1    3.0\nProduct_Category_2    0.0\nProduct_Category_3    0.0\nName: 0, dtype: float64\nis- M\nPrediction of Species based on test data-\nProduct_Category_1    3.0\nProduct_Category_2    0.0\nProduct_Category_3    0.0\nName: 0, dtype: float64\nis- M\nPrediction of Species based on test data-\nProduct_Category_1    3.0\nProduct_Category_2    0.0\nProduct_Category_3    0.0\nName: 0, dtype: float64\nis- M\nPrediction of Species based on test data-\nProduct_Category_1    3.0\nProduct_Category_2    0.0\nProduct_Category_3    0.0\nName: 0, dtype: float64\nis- F\nPrediction of Species based on test data-\nProduct_Category_1    3.0\nProduct_Category_2    0.0\nProduct_Category_3    0.0\nName: 0, dtype: float64\nis- M\nPrediction of Species based on test data-\nProduct_Category_1    3.0\nProduct_Category_2    0.0\nProduct_Category_3    0.0\nName: 0, dtype: float64\nis- M\n",
          "name": "stdout"
        }
      ]
    },
    {
      "metadata": {
        "trusted": true
      },
      "cell_type": "code",
      "source": "from sklearn.metrics import accuracy_score\naccuracy = accuracy_score(y_test, final)\naccuracy=accuracy*100\nprint(\"Accuracry is-  \",accuracy,'%')",
      "execution_count": 14,
      "outputs": [
        {
          "output_type": "stream",
          "text": "Accuracry is-   61.81818181818181 %\n",
          "name": "stdout"
        }
      ]
    }
  ],
  "metadata": {
    "kernelspec": {
      "name": "python36",
      "display_name": "Python 3.6",
      "language": "python"
    },
    "language_info": {
      "mimetype": "text/x-python",
      "nbconvert_exporter": "python",
      "name": "python",
      "pygments_lexer": "ipython3",
      "version": "3.6.6",
      "file_extension": ".py",
      "codemirror_mode": {
        "version": 3,
        "name": "ipython"
      }
    }
  },
  "nbformat": 4,
  "nbformat_minor": 2
}